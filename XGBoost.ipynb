{
  "nbformat": 4,
  "nbformat_minor": 0,
  "metadata": {
    "colab": {
      "name": "XGBoost",
      "provenance": [],
      "collapsed_sections": [],
      "authorship_tag": "ABX9TyNspMlVtvw+biciPULeI5hr",
      "include_colab_link": true
    },
    "kernelspec": {
      "name": "python3",
      "display_name": "Python 3"
    },
    "language_info": {
      "name": "python"
    }
  },
  "cells": [
    {
      "cell_type": "markdown",
      "metadata": {
        "id": "view-in-github",
        "colab_type": "text"
      },
      "source": [
        "<a href=\"https://colab.research.google.com/github/ustcsteve/XGBoost-Use-Guide/blob/main/XGBoost.ipynb\" target=\"_parent\"><img src=\"https://colab.research.google.com/assets/colab-badge.svg\" alt=\"Open In Colab\"/></a>"
      ]
    },
    {
      "cell_type": "markdown",
      "source": [
        "Step1: Install XGBoost"
      ],
      "metadata": {
        "id": "cjdeBSaupv3y"
      }
    },
    {
      "cell_type": "code",
      "execution_count": 1,
      "metadata": {
        "colab": {
          "base_uri": "https://localhost:8080/"
        },
        "id": "pQHHUd7DrxC9",
        "outputId": "6b03197d-6e65-4ff8-f94c-3d4dc4618493"
      },
      "outputs": [
        {
          "output_type": "stream",
          "name": "stdout",
          "text": [
            "Requirement already satisfied: xgboost in /usr/local/lib/python3.7/dist-packages (0.90)\n",
            "Requirement already satisfied: scipy in /usr/local/lib/python3.7/dist-packages (from xgboost) (1.4.1)\n",
            "Requirement already satisfied: numpy in /usr/local/lib/python3.7/dist-packages (from xgboost) (1.19.5)\n"
          ]
        }
      ],
      "source": [
        "%pip install xgboost"
      ]
    },
    {
      "cell_type": "code",
      "source": [
        "# check xgboost version\n",
        "import xgboost\n",
        "print(xgboost.__version__)"
      ],
      "metadata": {
        "colab": {
          "base_uri": "https://localhost:8080/"
        },
        "id": "HRbhg7sir1Ye",
        "outputId": "22531ce1-6878-472f-b461-4ef03c87a6c5"
      },
      "execution_count": 2,
      "outputs": [
        {
          "output_type": "stream",
          "name": "stdout",
          "text": [
            "0.90\n"
          ]
        }
      ]
    },
    {
      "cell_type": "markdown",
      "source": [
        "Current version is 0.90. "
      ],
      "metadata": {
        "id": "NZMzG_BxqEe-"
      }
    },
    {
      "cell_type": "markdown",
      "source": [
        "Step2. Import dataset\n",
        "\n",
        "Data Set Information:\n",
        "Biomedical data set built by Dr. Henrique da Mota during a medical residence period in the Group of Applied Research in Orthopaedics (GARO) of the Centre MÃ©dico-Chirurgical de RÃ©adaptation des Massues, Lyon, France. The data have been organized in two different but related classification tasks. The first task consists in classifying patients as belonging to one out of three categories: Normal (100 patients), Disk Hernia (60 patients) or Spondylolisthesis (150 patients). For the second task, the categories Disk Hernia and Spondylolisthesis were merged into a single category labelled as 'abnormal'. Thus, the second task consists in classifying patients as belonging to one out of two categories: Normal (100 patients) or Abnormal (210 patients). We provide files also for use within the WEKA environment.\n",
        "\n",
        "Attribute Information:\n",
        "Each patient is represented in the data set by six biomechanical attributes derived from the shape and orientation of the pelvis and lumbar spine (in this order): pelvic incidence, pelvic tilt, lumbar lordosis angle, sacral slope, pelvic radius and grade of spondylolisthesis. The following convention is used for the class labels: DH (Disk Hernia), Spondylolisthesis (SL), Normal (NO) and Abnormal (AB).\n",
        "\n",
        "http://archive.ics.uci.edu/ml/datasets/vertebral+column"
      ],
      "metadata": {
        "id": "7dHUgYOCq2B-"
      }
    },
    {
      "cell_type": "code",
      "source": [
        "import requests, zipfile, io\n",
        "import pandas as pd\n",
        "from scipy.io import arff\n"
      ],
      "metadata": {
        "id": "vTHv2wuMsXfX"
      },
      "execution_count": 3,
      "outputs": []
    },
    {
      "cell_type": "code",
      "source": [
        "f_zip = 'http://archive.ics.uci.edu/ml/machine-learning-databases/00212/vertebral_column_data.zip'\n",
        "r = requests.get(f_zip, stream=True)\n",
        "Vertebral_zip = zipfile.ZipFile(io.BytesIO(r.content))\n",
        "Vertebral_zip.extractall()"
      ],
      "metadata": {
        "id": "HclHXD9Uv-A3"
      },
      "execution_count": null,
      "outputs": []
    },
    {
      "cell_type": "code",
      "source": [
        "data = arff.loadarff('column_2C_weka.arff')\n",
        "df = pd.DataFrame(data[0])"
      ],
      "metadata": {
        "id": "8O0n5CMywUt1"
      },
      "execution_count": null,
      "outputs": []
    },
    {
      "cell_type": "code",
      "source": [
        "class_mapper = {b'Abnormal':1,b'Normal':0}\n",
        "df['class']=df['class'].replace(class_mapper)"
      ],
      "metadata": {
        "id": "uPmJpq-awckO"
      },
      "execution_count": null,
      "outputs": []
    },
    {
      "cell_type": "code",
      "source": [
        " df.shape"
      ],
      "metadata": {
        "colab": {
          "base_uri": "https://localhost:8080/"
        },
        "id": "httWoaBmwio3",
        "outputId": "0a4ff2d7-d647-40a8-c72c-b1dad99bf7b1"
      },
      "execution_count": null,
      "outputs": [
        {
          "output_type": "execute_result",
          "data": {
            "text/plain": [
              "(310, 7)"
            ]
          },
          "metadata": {},
          "execution_count": 8
        }
      ]
    },
    {
      "cell_type": "code",
      "source": [
        " df.columns"
      ],
      "metadata": {
        "colab": {
          "base_uri": "https://localhost:8080/"
        },
        "id": "f1FQ6EnGwphZ",
        "outputId": "b12f4f04-f6ee-47fd-addb-d9a57f8daf5c"
      },
      "execution_count": null,
      "outputs": [
        {
          "output_type": "execute_result",
          "data": {
            "text/plain": [
              "Index(['pelvic_incidence', 'pelvic_tilt', 'lumbar_lordosis_angle',\n",
              "       'sacral_slope', 'pelvic_radius', 'degree_spondylolisthesis', 'class'],\n",
              "      dtype='object')"
            ]
          },
          "metadata": {},
          "execution_count": 9
        }
      ]
    },
    {
      "cell_type": "markdown",
      "source": [
        "Step 3. Isolate features from the label for classification\n",
        "\n",
        "This example is going to use cross validation to show how to use XGBoost in classification analysis using accuracy as the metric."
      ],
      "metadata": {
        "id": "CSShomSAs_Pd"
      }
    },
    {
      "cell_type": "code",
      "source": [
        "X=df[['pelvic_incidence', 'pelvic_tilt', 'lumbar_lordosis_angle',\n",
        "       'sacral_slope', 'pelvic_radius', 'degree_spondylolisthesis']]\n",
        "y = df['class']"
      ],
      "metadata": {
        "id": "87lBg5q814s6"
      },
      "execution_count": null,
      "outputs": []
    },
    {
      "cell_type": "code",
      "source": [
        "# evaluate xgboost algorithm for classification\n",
        "from numpy import mean\n",
        "from numpy import std\n",
        "from sklearn.model_selection import cross_val_score\n",
        "from sklearn.model_selection import RepeatedStratifiedKFold\n",
        "from xgboost import XGBClassifier\n",
        "\n",
        "# define the model\n",
        "model = XGBClassifier()\n",
        "# evaluate the model\n",
        "cv = RepeatedStratifiedKFold(n_splits=10, n_repeats=3, random_state=1)\n",
        "n_scores = cross_val_score(model, X, y, scoring='accuracy', cv=cv, n_jobs=-1)\n",
        "# report performance\n",
        "print('Accuracy: %.3f (%.3f)' % (mean(n_scores), std(n_scores)))"
      ],
      "metadata": {
        "colab": {
          "base_uri": "https://localhost:8080/"
        },
        "id": "u1ydt5D01EGD",
        "outputId": "e98e2f71-5fac-48fe-f6cc-4d7e14d8a7ab"
      },
      "execution_count": null,
      "outputs": [
        {
          "output_type": "stream",
          "name": "stdout",
          "text": [
            "Accuracy: 0.830 (0.070)\n"
          ]
        }
      ]
    },
    {
      "cell_type": "markdown",
      "source": [
        "Step 4. Tune XGBoost Hyperparameters\n",
        "\n",
        "XGBoost is an ensemble of weak tree models. To optimize its performance, its number of trees, tree depth, learning rate, number of samples, number of features may need to adjust."
      ],
      "metadata": {
        "id": "tFOEHHZM2tfw"
      }
    },
    {
      "cell_type": "markdown",
      "source": [
        "a. Explore number of trees"
      ],
      "metadata": {
        "id": "AKSZ4qRm2wrz"
      }
    },
    {
      "cell_type": "code",
      "source": [
        "\n",
        "# explore xgboost number of trees effect on performance\n",
        "\n",
        "from matplotlib import pyplot\n",
        " \n",
        "# get a list of models to evaluate\n",
        "def get_models():\n",
        "\tmodels = dict()\n",
        "\ttrees = [10, 50, 100, 500, 1000, 5000]\n",
        "\tfor n in trees:\n",
        "\t\tmodels[str(n)] = XGBClassifier(n_estimators=n)\n",
        "\treturn models\n",
        " \n",
        "# evaluate a give model using cross-validation\n",
        "def evaluate_model(model):\n",
        "\tcv = RepeatedStratifiedKFold(n_splits=10, n_repeats=3, random_state=1)\n",
        "\tscores = cross_val_score(model, X, y, scoring='accuracy', cv=cv, n_jobs=-1)\n",
        "\treturn scores\n",
        "  \n",
        "# get the models to evaluate\n",
        "models = get_models()\n",
        "# evaluate the models and store results\n",
        "results, names = list(), list()\n",
        "for name, model in models.items():\n",
        "\tscores = evaluate_model(model)\n",
        "\tresults.append(scores)\n",
        "\tnames.append(name)\n",
        "\tprint('>%s %.3f (%.3f)' % (name, mean(scores), std(scores)))\n",
        "# plot model performance for comparison\n",
        "pyplot.boxplot(results, labels=names, showmeans=True)\n",
        "pyplot.show()"
      ],
      "metadata": {
        "colab": {
          "base_uri": "https://localhost:8080/",
          "height": 369
        },
        "id": "JyU3Fmap201R",
        "outputId": "aa69ee93-46a0-45a9-9477-6414dd8f41d4"
      },
      "execution_count": null,
      "outputs": [
        {
          "output_type": "stream",
          "name": "stdout",
          "text": [
            ">10 0.833 (0.072)\n",
            ">50 0.832 (0.078)\n",
            ">100 0.830 (0.070)\n",
            ">500 0.829 (0.076)\n",
            ">1000 0.828 (0.078)\n",
            ">5000 0.824 (0.075)\n"
          ]
        },
        {
          "output_type": "display_data",
          "data": {
            "image/png": "[encoded data removed]",
            "text/plain": [
              "<Figure size 432x288 with 1 Axes>"
            ]
          },
          "metadata": {
            "needs_background": "light"
          }
        }
      ]
    },
    {
      "cell_type": "markdown",
      "source": [
        "The best number of trees is 10 that gives an accuracy of 0.833."
      ],
      "metadata": {
        "id": "nUgCvp50wL6g"
      }
    },
    {
      "cell_type": "markdown",
      "source": [
        "b. Explore Tree Depth"
      ],
      "metadata": {
        "id": "oXGwLSE93o4J"
      }
    },
    {
      "cell_type": "code",
      "source": [
        "\n",
        "# explore xgboost number of trees effect on performance\n",
        "\n",
        "from matplotlib import pyplot\n",
        " \n",
        "# get a list of models to evaluate\n",
        "def get_models():\n",
        "\tmodels = dict()\n",
        "\tfor i in range(1,11):\n",
        "\t\tmodels[str(i)] = XGBClassifier(n_estimators=10, max_depth=i)\n",
        "\treturn models\n",
        " \n",
        "# evaluate a give model using cross-validation\n",
        "def evaluate_model(model):\n",
        "\tcv = RepeatedStratifiedKFold(n_splits=10, n_repeats=3, random_state=1)\n",
        "\tscores = cross_val_score(model, X, y, scoring='accuracy', cv=cv, n_jobs=-1)\n",
        "\treturn scores\n",
        "  \n",
        "# get the models to evaluate\n",
        "models = get_models()\n",
        "# evaluate the models and store results\n",
        "results, names = list(), list()\n",
        "for name, model in models.items():\n",
        "\tscores = evaluate_model(model)\n",
        "\tresults.append(scores)\n",
        "\tnames.append(name)\n",
        "\tprint('>%s %.3f (%.3f)' % (name, mean(scores), std(scores)))\n",
        "# plot model performance for comparison\n",
        "pyplot.boxplot(results, labels=names, showmeans=True)\n",
        "pyplot.show()"
      ],
      "metadata": {
        "colab": {
          "base_uri": "https://localhost:8080/",
          "height": 439
        },
        "id": "gZvYg17R3hH9",
        "outputId": "36100e17-ea9d-4833-ea37-22e6384c49d7"
      },
      "execution_count": null,
      "outputs": [
        {
          "output_type": "stream",
          "name": "stdout",
          "text": [
            ">1 0.780 (0.067)\n",
            ">2 0.802 (0.062)\n",
            ">3 0.833 (0.072)\n",
            ">4 0.838 (0.064)\n",
            ">5 0.845 (0.060)\n",
            ">6 0.837 (0.062)\n",
            ">7 0.840 (0.064)\n",
            ">8 0.838 (0.065)\n",
            ">9 0.839 (0.061)\n",
            ">10 0.839 (0.061)\n"
          ]
        },
        {
          "output_type": "display_data",
          "data": {
            "image/png": "[encoded data removed]",
            "text/plain": [
              "<Figure size 432x288 with 1 Axes>"
            ]
          },
          "metadata": {
            "needs_background": "light"
          }
        }
      ]
    },
    {
      "cell_type": "markdown",
      "source": [
        "The best tree depth wiht 10 trees is 5 that gives an accuracy of 0.845."
      ],
      "metadata": {
        "id": "G-_CiBEGwaww"
      }
    },
    {
      "cell_type": "markdown",
      "source": [
        "c. Explore Learning Rate"
      ],
      "metadata": {
        "id": "931DiMBD3_54"
      }
    },
    {
      "cell_type": "code",
      "source": [
        "# get a list of models to evaluate\n",
        "def get_models():\n",
        "\tmodels = dict()\n",
        "\trates = [0.0001, 0.001, 0.01, 0.1, 1.0]\n",
        "\tfor r in rates:\n",
        "\t\tkey = '%.4f' % r\n",
        "\t\tmodels[key] = XGBClassifier(n_estimators=10, max_depth=5, eta=r)\n",
        "\treturn models\n",
        " \n",
        "# evaluate a give model using cross-validation\n",
        "def evaluate_model(model):\n",
        "\tcv = RepeatedStratifiedKFold(n_splits=10, n_repeats=3, random_state=1)\n",
        "\tscores = cross_val_score(model, X, y, scoring='accuracy', cv=cv, n_jobs=-1)\n",
        "\treturn scores\n",
        "  \n",
        "# get the models to evaluate\n",
        "models = get_models()\n",
        "# evaluate the models and store results\n",
        "results, names = list(), list()\n",
        "for name, model in models.items():\n",
        "\tscores = evaluate_model(model)\n",
        "\tresults.append(scores)\n",
        "\tnames.append(name)\n",
        "\tprint('>%s %.3f (%.3f)' % (name, mean(scores), std(scores)))\n",
        "# plot model performance for comparison\n",
        "pyplot.boxplot(results, labels=names, showmeans=True)\n",
        "pyplot.show()"
      ],
      "metadata": {
        "colab": {
          "base_uri": "https://localhost:8080/",
          "height": 352
        },
        "id": "2C3Nej4B4Ei-",
        "outputId": "4d0493e2-87b5-4eb1-a489-5cf8d07cb261"
      },
      "execution_count": null,
      "outputs": [
        {
          "output_type": "stream",
          "name": "stdout",
          "text": [
            ">0.0001 0.845 (0.060)\n",
            ">0.0010 0.845 (0.060)\n",
            ">0.0100 0.845 (0.060)\n",
            ">0.1000 0.845 (0.060)\n",
            ">1.0000 0.845 (0.060)\n"
          ]
        },
        {
          "output_type": "display_data",
          "data": {
            "image/png": "[encoded data removed]",
            "text/plain": [
              "<Figure size 432x288 with 1 Axes>"
            ]
          },
          "metadata": {
            "needs_background": "light"
          }
        }
      ]
    },
    {
      "cell_type": "markdown",
      "source": [
        "The model doesn't vary by its learning rate."
      ],
      "metadata": {
        "id": "YYqDG6V6xyLY"
      }
    },
    {
      "cell_type": "markdown",
      "source": [
        "d. Explore Number of Samples"
      ],
      "metadata": {
        "id": "9BiS2izK4XY3"
      }
    },
    {
      "cell_type": "code",
      "source": [
        "import numpy as np\n",
        "# get a list of models to evaluate\n",
        "def get_models():\n",
        "\tmodels = dict()\n",
        "\tfor i in np.arange(0.1, 1.1, 0.1):\n",
        "\t\tkey = '%.1f' % i\n",
        "\t\tmodels[key] = XGBClassifier(n_estimators=10, max_depth=5, subsample=i)\n",
        "\treturn models\n",
        " \n",
        "# evaluate a give model using cross-validation\n",
        "def evaluate_model(model):\n",
        "\tcv = RepeatedStratifiedKFold(n_splits=10, n_repeats=3, random_state=1)\n",
        "\tscores = cross_val_score(model, X, y, scoring='accuracy', cv=cv, n_jobs=-1)\n",
        "\treturn scores\n",
        "  \n",
        "# get the models to evaluate\n",
        "models = get_models()\n",
        "# evaluate the models and store results\n",
        "results, names = list(), list()\n",
        "for name, model in models.items():\n",
        "\tscores = evaluate_model(model)\n",
        "\tresults.append(scores)\n",
        "\tnames.append(name)\n",
        "\tprint('>%s %.3f (%.3f)' % (name, mean(scores), std(scores)))\n",
        "# plot model performance for comparison\n",
        "pyplot.boxplot(results, labels=names, showmeans=True)\n",
        "pyplot.show()"
      ],
      "metadata": {
        "colab": {
          "base_uri": "https://localhost:8080/",
          "height": 439
        },
        "id": "nj4NHU9Q4gtz",
        "outputId": "4bd15117-ac4b-4b8b-d49d-570eca7ada34"
      },
      "execution_count": null,
      "outputs": [
        {
          "output_type": "stream",
          "name": "stdout",
          "text": [
            ">0.1 0.801 (0.061)\n",
            ">0.2 0.818 (0.061)\n",
            ">0.3 0.835 (0.054)\n",
            ">0.4 0.841 (0.059)\n",
            ">0.5 0.846 (0.058)\n",
            ">0.6 0.839 (0.071)\n",
            ">0.7 0.839 (0.065)\n",
            ">0.8 0.839 (0.070)\n",
            ">0.9 0.835 (0.067)\n",
            ">1.0 0.845 (0.060)\n"
          ]
        },
        {
          "output_type": "display_data",
          "data": {
            "image/png": "[encoded data removed]",
            "text/plain": [
              "<Figure size 432x288 with 1 Axes>"
            ]
          },
          "metadata": {
            "needs_background": "light"
          }
        }
      ]
    },
    {
      "cell_type": "markdown",
      "source": [
        "When XGBoost randomly samples half of the training set, it gives the best accuracy of 0.846."
      ],
      "metadata": {
        "id": "xlROCV0gyPes"
      }
    },
    {
      "cell_type": "markdown",
      "source": [
        "e. Explore Number of Features"
      ],
      "metadata": {
        "id": "zCPeNJx05-zW"
      }
    },
    {
      "cell_type": "code",
      "source": [
        "import numpy as np\n",
        "# get a list of models to evaluate\n",
        "def get_models():\n",
        "\tmodels = dict()\n",
        "\tfor i in np.arange(0.1, 1.1, 0.1):\n",
        "\t\tkey = '%.1f' % i\n",
        "\t\tmodels[key] = XGBClassifier(n_estimators=10, max_depth=5, subsample=0.5, colsample_bytree=i)\n",
        "\treturn models\n",
        " \n",
        "# evaluate a give model using cross-validation\n",
        "def evaluate_model(model):\n",
        "\tcv = RepeatedStratifiedKFold(n_splits=10, n_repeats=3, random_state=1)\n",
        "\tscores = cross_val_score(model, X, y, scoring='accuracy', cv=cv, n_jobs=-1)\n",
        "\treturn scores\n",
        "  \n",
        "# get the models to evaluate\n",
        "models = get_models()\n",
        "# evaluate the models and store results\n",
        "results, names = list(), list()\n",
        "for name, model in models.items():\n",
        "\tscores = evaluate_model(model)\n",
        "\tresults.append(scores)\n",
        "\tnames.append(name)\n",
        "\tprint('>%s %.3f (%.3f)' % (name, mean(scores), std(scores)))\n",
        "# plot model performance for comparison\n",
        "pyplot.boxplot(results, labels=names, showmeans=True)\n",
        "pyplot.show()"
      ],
      "metadata": {
        "colab": {
          "base_uri": "https://localhost:8080/",
          "height": 439
        },
        "id": "NuHGXcnH5_CY",
        "outputId": "bbb6f6b8-7038-41af-c791-d2858ced92c7"
      },
      "execution_count": null,
      "outputs": [
        {
          "output_type": "stream",
          "name": "stdout",
          "text": [
            ">0.1 0.703 (0.052)\n",
            ">0.2 0.703 (0.052)\n",
            ">0.3 0.703 (0.052)\n",
            ">0.4 0.765 (0.073)\n",
            ">0.5 0.818 (0.054)\n",
            ">0.6 0.818 (0.054)\n",
            ">0.7 0.815 (0.056)\n",
            ">0.8 0.815 (0.056)\n",
            ">0.9 0.837 (0.056)\n",
            ">1.0 0.846 (0.058)\n"
          ]
        },
        {
          "output_type": "display_data",
          "data": {
            "image/png": "[encoded data removed]",
            "text/plain": [
              "<Figure size 432x288 with 1 Axes>"
            ]
          },
          "metadata": {
            "needs_background": "light"
          }
        }
      ]
    },
    {
      "cell_type": "markdown",
      "source": [
        "The model performs best when all 6 features are used along with 10 trees, 5 tree depth, randomly used 50% data for training with minimal impact from its learning rate. "
      ],
      "metadata": {
        "id": "iZ3xcbbUz6Hc"
      }
    }
  ]
}